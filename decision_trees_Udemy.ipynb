{
  "nbformat": 4,
  "nbformat_minor": 0,
  "metadata": {
    "colab": {
      "name": "decision_trees_Udemy.ipynb",
      "provenance": [],
      "collapsed_sections": [],
      "authorship_tag": "ABX9TyOhyoNQYt928sFaRWpk7xTv",
      "include_colab_link": true
    },
    "kernelspec": {
      "name": "python3",
      "display_name": "Python 3"
    }
  },
  "cells": [
    {
      "cell_type": "markdown",
      "metadata": {
        "id": "view-in-github",
        "colab_type": "text"
      },
      "source": [
        "<a href=\"https://colab.research.google.com/github/2series/applied-data-science-certification/blob/master/decision_trees_Udemy.ipynb\" target=\"_parent\"><img src=\"https://colab.research.google.com/assets/colab-badge.svg\" alt=\"Open In Colab\"/></a>"
      ]
    },
    {
      "cell_type": "markdown",
      "metadata": {
        "id": "dlhnSgnQzDsX",
        "colab_type": "text"
      },
      "source": [
        "## Decision Trees, Random Forests, AdaBoost & XGBoost in Python\n",
        "\n",
        "+ Identify the business problem which can be solved using Decision tree/ Random Forest/ XGBoost  of Machine Learning\n",
        "+ Have a clear understanding of Advanced Decision tree based algorithms such as Random Forest, Bagging, AdaBoost and XGBoost\n",
        "+ Create a tree based (Decision tree, Random Forest, Bagging, AdaBoost and XGBoost) model in Python and analyze its result\n",
        "+ Confidently practice, discuss and understand Machine Learning concepts\n",
        "\n",
        "![Decision Trees, Random Forests, AdaBoost & XGBoost in Python](https://drive.google.com/uc?id=1F_Ogt0C-Qa30Oda9VzTR_sctIra_cC3Z)"
      ]
    }
  ]
}