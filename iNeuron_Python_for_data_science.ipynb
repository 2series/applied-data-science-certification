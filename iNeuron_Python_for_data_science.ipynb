{
  "nbformat": 4,
  "nbformat_minor": 0,
  "metadata": {
    "colab": {
      "name": "iNeuron_Python_for_data_science.ipynb",
      "provenance": [],
      "collapsed_sections": [],
      "authorship_tag": "ABX9TyORqcuIRSup43P3VAnRPwRD",
      "include_colab_link": true
    },
    "kernelspec": {
      "name": "python3",
      "display_name": "Python 3"
    }
  },
  "cells": [
    {
      "cell_type": "markdown",
      "metadata": {
        "id": "view-in-github",
        "colab_type": "text"
      },
      "source": [
        "<a href=\"https://colab.research.google.com/github/2series/applied-data-science-certification/blob/master/iNeuron_Python_for_data_science.ipynb\" target=\"_parent\"><img src=\"https://colab.research.google.com/assets/colab-badge.svg\" alt=\"Open In Colab\"/></a>"
      ]
    },
    {
      "cell_type": "code",
      "metadata": {
        "id": "RCQFfXuVZgxt",
        "colab_type": "code",
        "colab": {}
      },
      "source": [
        ""
      ],
      "execution_count": 0,
      "outputs": []
    },
    {
      "cell_type": "markdown",
      "metadata": {
        "id": "NxZctmOMaqzp",
        "colab_type": "text"
      },
      "source": [
        "# Python for Data Science\n",
        "\n",
        "![](https://drive.google.com/uc?export=view&id=1kqliq--YCfrfXhLwOSrgnV3GRAyOuG26)\n",
        "\n",
        "\n",
        "\n"
      ]
    }
  ]
}